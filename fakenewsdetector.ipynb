{
 "cells": [
  {
   "cell_type": "code",
   "execution_count": 1,
   "id": "3f5c25bd-3c3b-42c6-bdcc-2a9ce65c8873",
   "metadata": {
    "execution": {
     "iopub.execute_input": "2025-10-03T01:27:37.484404Z",
     "iopub.status.busy": "2025-10-03T01:27:37.484152Z",
     "iopub.status.idle": "2025-10-03T01:27:37.806051Z",
     "shell.execute_reply": "2025-10-03T01:27:37.805413Z",
     "shell.execute_reply.started": "2025-10-03T01:27:37.484384Z"
    }
   },
   "outputs": [
    {
     "name": "stdout",
     "output_type": "stream",
     "text": [
      "combined_subset.csv\n"
     ]
    }
   ],
   "source": [
    "import boto3\n",
    "\n",
    "s3 = boto3.client('s3')\n",
    "bucket_name = 'fakenewsdetectordata'\n",
    "\n",
    "# List files in the bucket\n",
    "response = s3.list_objects_v2(Bucket=bucket_name)\n",
    "if 'Contents' in response:\n",
    "    for obj in response['Contents']:\n",
    "        print(obj['Key'])\n",
    "else:\n",
    "    print(\"Bucket is empty or inaccessible\")\n"
   ]
  },
  {
   "cell_type": "code",
   "execution_count": 2,
   "id": "ce0652b6-75cb-428d-8b7d-7c40adbdc3fa",
   "metadata": {
    "execution": {
     "iopub.execute_input": "2025-10-03T01:27:56.577130Z",
     "iopub.status.busy": "2025-10-03T01:27:56.576769Z",
     "iopub.status.idle": "2025-10-03T01:27:57.723540Z",
     "shell.execute_reply": "2025-10-03T01:27:57.722751Z",
     "shell.execute_reply.started": "2025-10-03T01:27:56.577108Z"
    },
    "scrolled": true
   },
   "outputs": [
    {
     "data": {
      "text/html": [
       "<div>\n",
       "<style scoped>\n",
       "    .dataframe tbody tr th:only-of-type {\n",
       "        vertical-align: middle;\n",
       "    }\n",
       "\n",
       "    .dataframe tbody tr th {\n",
       "        vertical-align: top;\n",
       "    }\n",
       "\n",
       "    .dataframe thead th {\n",
       "        text-align: right;\n",
       "    }\n",
       "</style>\n",
       "<table border=\"1\" class=\"dataframe\">\n",
       "  <thead>\n",
       "    <tr style=\"text-align: right;\">\n",
       "      <th></th>\n",
       "      <th>title</th>\n",
       "      <th>text</th>\n",
       "      <th>subject</th>\n",
       "      <th>date</th>\n",
       "      <th>label</th>\n",
       "    </tr>\n",
       "  </thead>\n",
       "  <tbody>\n",
       "    <tr>\n",
       "      <th>0</th>\n",
       "      <td>Donald Trump Sends Out Embarrassing New Yearâ...</td>\n",
       "      <td>Donald Trump just couldn t wish all Americans ...</td>\n",
       "      <td>News</td>\n",
       "      <td>December 31, 2017</td>\n",
       "      <td>1</td>\n",
       "    </tr>\n",
       "    <tr>\n",
       "      <th>1</th>\n",
       "      <td>Drunk Bragging Trump Staffer Started Russian ...</td>\n",
       "      <td>House Intelligence Committee Chairman Devin Nu...</td>\n",
       "      <td>News</td>\n",
       "      <td>December 31, 2017</td>\n",
       "      <td>1</td>\n",
       "    </tr>\n",
       "    <tr>\n",
       "      <th>2</th>\n",
       "      <td>Sheriff David Clarke Becomes An Internet Joke...</td>\n",
       "      <td>On Friday, it was revealed that former Milwauk...</td>\n",
       "      <td>News</td>\n",
       "      <td>December 30, 2017</td>\n",
       "      <td>1</td>\n",
       "    </tr>\n",
       "    <tr>\n",
       "      <th>3</th>\n",
       "      <td>Trump Is So Obsessed He Even Has Obamaâ€™s Na...</td>\n",
       "      <td>On Christmas day, Donald Trump announced that ...</td>\n",
       "      <td>News</td>\n",
       "      <td>December 29, 2017</td>\n",
       "      <td>1</td>\n",
       "    </tr>\n",
       "    <tr>\n",
       "      <th>4</th>\n",
       "      <td>Pope Francis Just Called Out Donald Trump Dur...</td>\n",
       "      <td>Pope Francis used his annual Christmas Day mes...</td>\n",
       "      <td>News</td>\n",
       "      <td>December 25, 2017</td>\n",
       "      <td>1</td>\n",
       "    </tr>\n",
       "  </tbody>\n",
       "</table>\n",
       "</div>"
      ],
      "text/plain": [
       "                                               title  \\\n",
       "0   Donald Trump Sends Out Embarrassing New Yearâ...   \n",
       "1   Drunk Bragging Trump Staffer Started Russian ...   \n",
       "2   Sheriff David Clarke Becomes An Internet Joke...   \n",
       "3   Trump Is So Obsessed He Even Has Obamaâ€™s Na...   \n",
       "4   Pope Francis Just Called Out Donald Trump Dur...   \n",
       "\n",
       "                                                text subject  \\\n",
       "0  Donald Trump just couldn t wish all Americans ...    News   \n",
       "1  House Intelligence Committee Chairman Devin Nu...    News   \n",
       "2  On Friday, it was revealed that former Milwauk...    News   \n",
       "3  On Christmas day, Donald Trump announced that ...    News   \n",
       "4  Pope Francis used his annual Christmas Day mes...    News   \n",
       "\n",
       "                date  label  \n",
       "0  December 31, 2017      1  \n",
       "1  December 31, 2017      1  \n",
       "2  December 30, 2017      1  \n",
       "3  December 29, 2017      1  \n",
       "4  December 25, 2017      1  "
      ]
     },
     "execution_count": 2,
     "metadata": {},
     "output_type": "execute_result"
    }
   ],
   "source": [
    "import pandas as pd\n",
    "\n",
    "s3_path = 's3://fakenewsdetectordata/combined_subset.csv'\n",
    "df = pd.read_csv(s3_path)\n",
    "\n",
    "# Check the first few rows\n",
    "df.head()\n"
   ]
  },
  {
   "cell_type": "code",
   "execution_count": 3,
   "id": "3db1e8b7-0cef-40a9-b8f4-27b779b8f5fa",
   "metadata": {
    "execution": {
     "iopub.execute_input": "2025-10-03T01:29:15.097678Z",
     "iopub.status.busy": "2025-10-03T01:29:15.097261Z",
     "iopub.status.idle": "2025-10-03T01:29:15.166978Z",
     "shell.execute_reply": "2025-10-03T01:29:15.166252Z",
     "shell.execute_reply.started": "2025-10-03T01:29:15.097655Z"
    }
   },
   "outputs": [],
   "source": [
    "import re\n",
    "\n",
    "def clean_text(text):\n",
    "    text = text.lower()\n",
    "    text = re.sub(r\"http\\S+\", \"\", text)  # remove URLs\n",
    "    text = re.sub(r\"[^a-zA-Z\\s]\", \"\", text)  # remove punctuation\n",
    "    return text\n",
    "\n",
    "df['clean_text'] = df['text'].apply(clean_text)\n"
   ]
  },
  {
   "cell_type": "code",
   "execution_count": null,
   "id": "895e1420-a2ef-4846-bdcb-f7ed2ad0d920",
   "metadata": {},
   "outputs": [],
   "source": []
  },
  {
   "cell_type": "code",
   "execution_count": 4,
   "id": "a42ee820-35a0-4580-8eb3-226714f3e0af",
   "metadata": {
    "execution": {
     "iopub.execute_input": "2025-10-03T01:29:41.297034Z",
     "iopub.status.busy": "2025-10-03T01:29:41.296747Z",
     "iopub.status.idle": "2025-10-03T01:29:41.365085Z",
     "shell.execute_reply": "2025-10-03T01:29:41.364275Z",
     "shell.execute_reply.started": "2025-10-03T01:29:41.297013Z"
    }
   },
   "outputs": [],
   "source": [
    "import re\n",
    "\n",
    "def clean_text(text):\n",
    "    text = text.lower()\n",
    "    text = re.sub(r\"http\\S+\", \"\", text)  # remove URLs\n",
    "    text = re.sub(r\"[^a-zA-Z\\s]\", \"\", text)  # remove punctuation\n",
    "    return text\n",
    "\n",
    "df['clean_text'] = df['text'].apply(clean_text)\n"
   ]
  },
  {
   "cell_type": "code",
   "execution_count": 5,
   "id": "c395f481-baf0-4e7a-b44d-ac7405a282b1",
   "metadata": {
    "execution": {
     "iopub.execute_input": "2025-10-03T01:29:54.002280Z",
     "iopub.status.busy": "2025-10-03T01:29:54.001988Z",
     "iopub.status.idle": "2025-10-03T01:29:54.775152Z",
     "shell.execute_reply": "2025-10-03T01:29:54.774493Z",
     "shell.execute_reply.started": "2025-10-03T01:29:54.002259Z"
    }
   },
   "outputs": [],
   "source": [
    "from sklearn.model_selection import train_test_split\n",
    "\n",
    "train_texts, test_texts, train_labels, test_labels = train_test_split(\n",
    "    df['clean_text'], df['label'], test_size=0.2, random_state=42\n",
    ")\n"
   ]
  },
  {
   "cell_type": "code",
   "execution_count": 6,
   "id": "75d9bb11-59b2-4b7a-bb9f-645db6390d11",
   "metadata": {
    "execution": {
     "iopub.execute_input": "2025-10-03T01:31:21.974241Z",
     "iopub.status.busy": "2025-10-03T01:31:21.973828Z",
     "iopub.status.idle": "2025-10-03T01:31:21.978383Z",
     "shell.execute_reply": "2025-10-03T01:31:21.977641Z",
     "shell.execute_reply.started": "2025-10-03T01:31:21.974219Z"
    }
   },
   "outputs": [
    {
     "name": "stdout",
     "output_type": "stream",
     "text": [
      "Number of training samples: 800\n",
      "Number of test samples: 200\n",
      "First training sample text:\n",
      " when sen al franken dmn announced his plans to resign thursday he specifically called out donald trump over the access hollywood video and roy moore an alleged pedophile who is running for the senate seat in alabama with the gop s blessing donald trump jr not known for being a brainiac decided to mock franken on twitter as if he didn t listen to the democrat s amazing speech junior invoked one of the former comedian s  saturday night live  most wellknown characters writing  because i m good enough i m smart enough and goddarnit people like me  and included the hashtag  franken because i m good enough i m smart enough and goddarnit people like me franken  donald trump jr donaldjtrumpjr december  twitter gave junior a wakeup callpictwittercomnmurmmgmz  liberalgranny peppersandeggs december  i am sure daddy realdonaldtrump can sympathize as he is a fellow sexual predator  pictwittercomqesftpu  matt slavin themattslavin december   grab  em by the pussy  donald trump  mrs smh mrssmh december  did you wear a diaper when you tweeted this  tony posnanski tonyposnanski december   and when you re a star they let you do it you can do anything grab  em by the pussy    your dad  aaron rupar atrupar december  your father is a rapist ask your mom if you don t believe mealso you ll be in prison this time next year traitor  greg olear gregolear december  this is coming from donald  i do not recall  trump jr  rep jackie sharp jackiesharp december  can t wait to tweet joke about you when you go to prison pictwittercomjajolbyqc  american dad   okiedokiepokey december  pictwittercomzbkijzxk  meghan morris seaghost december   i moved on her actually you know she was down on palm beach i moved on her and i failed i ll admit it i did try and fuck her she was married your dad franken thamendmentnow  lesley abravanel lesleyabravanel december  calm down fredo go shoot a sedated animal or something it s what you re good at  motive of christmas past falsemotive december  yes jr your father sexual predator such a shining example to your  daughters  nothing in the world like first rate pssy  he said  cantblameobamaanymor drrevmustafa december  franken said during his speech i of all people am aware that there is some irony in the fact that i am leaving while a man who has bragged on tape about his history of sexual assault sits in the oval office and a man who has repeatedly preyed on young girls campaigns for the senate with the full support of his party trump and moore support each otherphoto by jeff vinnickgetty images\n",
      "First training label: 1\n"
     ]
    }
   ],
   "source": [
    "print(\"Number of training samples:\", len(train_texts))\n",
    "print(\"Number of test samples:\", len(test_texts))\n",
    "print(\"First training sample text:\\n\", train_texts.iloc[0])\n",
    "print(\"First training label:\", train_labels.iloc[0])\n"
   ]
  },
  {
   "cell_type": "code",
   "execution_count": 7,
   "id": "5d4bb181-597d-413d-a840-87e9eaa46a72",
   "metadata": {
    "execution": {
     "iopub.execute_input": "2025-10-03T01:33:15.062435Z",
     "iopub.status.busy": "2025-10-03T01:33:15.062157Z",
     "iopub.status.idle": "2025-10-03T01:33:15.365293Z",
     "shell.execute_reply": "2025-10-03T01:33:15.364453Z",
     "shell.execute_reply.started": "2025-10-03T01:33:15.062415Z"
    }
   },
   "outputs": [],
   "source": [
    "from sklearn.feature_extraction.text import TfidfVectorizer\n",
    "\n",
    "vectorizer = TfidfVectorizer(max_features=5000)\n",
    "X_train = vectorizer.fit_transform(train_texts)\n",
    "X_test = vectorizer.transform(test_texts)\n"
   ]
  },
  {
   "cell_type": "code",
   "execution_count": 8,
   "id": "f164074e-a89b-4fea-a23c-db66c0f64bb6",
   "metadata": {
    "execution": {
     "iopub.execute_input": "2025-10-03T01:33:33.917328Z",
     "iopub.status.busy": "2025-10-03T01:33:33.917029Z",
     "iopub.status.idle": "2025-10-03T01:33:34.075399Z",
     "shell.execute_reply": "2025-10-03T01:33:34.074642Z",
     "shell.execute_reply.started": "2025-10-03T01:33:33.917297Z"
    }
   },
   "outputs": [
    {
     "name": "stdout",
     "output_type": "stream",
     "text": [
      "Accuracy: 0.995\n",
      "              precision    recall  f1-score   support\n",
      "\n",
      "           0       1.00      0.99      1.00       104\n",
      "           1       0.99      1.00      0.99        96\n",
      "\n",
      "    accuracy                           0.99       200\n",
      "   macro avg       0.99      1.00      0.99       200\n",
      "weighted avg       1.00      0.99      1.00       200\n",
      "\n"
     ]
    }
   ],
   "source": [
    "from sklearn.linear_model import LogisticRegression\n",
    "from sklearn.metrics import classification_report, accuracy_score\n",
    "\n",
    "clf = LogisticRegression()\n",
    "clf.fit(X_train, train_labels)\n",
    "\n",
    "y_pred = clf.predict(X_test)\n",
    "\n",
    "print(\"Accuracy:\", accuracy_score(test_labels, y_pred))\n",
    "print(classification_report(test_labels, y_pred))\n"
   ]
  },
  {
   "cell_type": "code",
   "execution_count": 9,
   "id": "d00f8252-1df6-4987-9ed2-72737dd2f07c",
   "metadata": {
    "execution": {
     "iopub.execute_input": "2025-10-03T01:40:00.877186Z",
     "iopub.status.busy": "2025-10-03T01:40:00.876886Z",
     "iopub.status.idle": "2025-10-03T01:40:01.135884Z",
     "shell.execute_reply": "2025-10-03T01:40:01.124538Z",
     "shell.execute_reply.started": "2025-10-03T01:40:00.877163Z"
    }
   },
   "outputs": [
    {
     "ename": "NameError",
     "evalue": "name 'predict_text' is not defined",
     "output_type": "error",
     "traceback": [
      "\u001b[0;31m---------------------------------------------------------------------------\u001b[0m",
      "\u001b[0;31mNameError\u001b[0m                                 Traceback (most recent call last)",
      "Cell \u001b[0;32mIn[9], line 2\u001b[0m\n\u001b[1;32m      1\u001b[0m user_text \u001b[38;5;241m=\u001b[39m \u001b[38;5;124m\"\u001b[39m\u001b[38;5;124mThe government has secretly approved a new plan to cancel taxes for everyone.\u001b[39m\u001b[38;5;124m\"\u001b[39m  \u001b[38;5;66;03m# type one live\u001b[39;00m\n\u001b[0;32m----> 2\u001b[0m \u001b[43mpredict_text\u001b[49m(user_text)\n",
      "\u001b[0;31mNameError\u001b[0m: name 'predict_text' is not defined"
     ]
    }
   ],
   "source": [
    "user_text = \"The government has secretly approved a new plan to cancel taxes for everyone.\"  # type one live\n",
    "predict_text(user_text)\n",
    "\n"
   ]
  },
  {
   "cell_type": "code",
   "execution_count": 10,
   "id": "993b5525-aeec-4459-b72b-82addc644d69",
   "metadata": {
    "execution": {
     "iopub.execute_input": "2025-10-03T01:40:55.448180Z",
     "iopub.status.busy": "2025-10-03T01:40:55.447900Z",
     "iopub.status.idle": "2025-10-03T01:40:55.451827Z",
     "shell.execute_reply": "2025-10-03T01:40:55.451160Z",
     "shell.execute_reply.started": "2025-10-03T01:40:55.448159Z"
    }
   },
   "outputs": [],
   "source": [
    "def predict_text(text):\n",
    "    X = vectorizer.transform([text])\n",
    "    pred = clf.predict(X)[0]\n",
    "    prob = clf.predict_proba(X)[0]\n",
    "    print(\"Text:\", text[:200] + (\"...\" if len(text) > 200 else \"\"))\n",
    "    print(\"Predicted label:\", pred)\n",
    "    print(\"Confidence:\", {0: round(prob[0],3), 1: round(prob[1],3)})\n",
    "    return pred, prob\n"
   ]
  },
  {
   "cell_type": "code",
   "execution_count": 11,
   "id": "b33944dc-a404-408c-960e-87be4ad8b8a0",
   "metadata": {
    "execution": {
     "iopub.execute_input": "2025-10-03T01:41:11.177800Z",
     "iopub.status.busy": "2025-10-03T01:41:11.177424Z",
     "iopub.status.idle": "2025-10-03T01:41:11.185084Z",
     "shell.execute_reply": "2025-10-03T01:41:11.184090Z",
     "shell.execute_reply.started": "2025-10-03T01:41:11.177768Z"
    }
   },
   "outputs": [
    {
     "name": "stdout",
     "output_type": "stream",
     "text": [
      "Text: The government has secretly approved a new plan to cancel taxes for everyone.\n",
      "Predicted label: 0\n",
      "Confidence: {0: 0.703, 1: 0.297}\n"
     ]
    },
    {
     "data": {
      "text/plain": [
       "(0, array([0.70333624, 0.29666376]))"
      ]
     },
     "execution_count": 11,
     "metadata": {},
     "output_type": "execute_result"
    }
   ],
   "source": [
    "user_text = \"The government has secretly approved a new plan to cancel taxes for everyone.\"\n",
    "predict_text(user_text)\n"
   ]
  },
  {
   "cell_type": "code",
   "execution_count": 12,
   "id": "944334eb-588e-43c5-bdbf-7eeda080a1d6",
   "metadata": {
    "execution": {
     "iopub.execute_input": "2025-10-03T01:43:40.737978Z",
     "iopub.status.busy": "2025-10-03T01:43:40.737595Z",
     "iopub.status.idle": "2025-10-03T01:43:40.747912Z",
     "shell.execute_reply": "2025-10-03T01:43:40.747089Z",
     "shell.execute_reply.started": "2025-10-03T01:43:40.737952Z"
    }
   },
   "outputs": [
    {
     "name": "stdout",
     "output_type": "stream",
     "text": [
      "Text: The President signed a new healthcare bill into law on Tuesday.\n",
      "Predicted label: 0\n",
      "Confidence: {0: 0.804, 1: 0.196}\n",
      "Text: NASA successfully launched a satellite to monitor climate change.\n",
      "Predicted label: 0\n",
      "Confidence: {0: 0.536, 1: 0.464}\n",
      "Text: The Federal Reserve announced an increase in interest rates this week.\n",
      "Predicted label: 0\n",
      "Confidence: {0: 0.702, 1: 0.298}\n"
     ]
    },
    {
     "data": {
      "text/plain": [
       "(0, array([0.70249839, 0.29750161]))"
      ]
     },
     "execution_count": 12,
     "metadata": {},
     "output_type": "execute_result"
    }
   ],
   "source": [
    "\n",
    "predict_text(\"The President signed a new healthcare bill into law on Tuesday.\")\n",
    "predict_text(\"NASA successfully launched a satellite to monitor climate change.\")\n",
    "predict_text(\"The Federal Reserve announced an increase in interest rates this week.\")\n"
   ]
  },
  {
   "cell_type": "code",
   "execution_count": 13,
   "id": "028f3f94-80ed-4626-b07a-4ef6f6a52da3",
   "metadata": {
    "execution": {
     "iopub.execute_input": "2025-10-03T01:44:51.357230Z",
     "iopub.status.busy": "2025-10-03T01:44:51.356947Z",
     "iopub.status.idle": "2025-10-03T01:44:51.369054Z",
     "shell.execute_reply": "2025-10-03T01:44:51.368164Z",
     "shell.execute_reply.started": "2025-10-03T01:44:51.357209Z"
    }
   },
   "outputs": [
    {
     "name": "stdout",
     "output_type": "stream",
     "text": [
      "Text: Aliens have landed in New York City and replaced the mayor with a clone.\n",
      "Predicted label: 0\n",
      "Confidence: {0: 0.588, 1: 0.412}\n",
      "Text: Scientists confirm chocolate cures all diseases and extends life by 50 years.\n",
      "Predicted label: 1\n",
      "Confidence: {0: 0.476, 1: 0.524}\n",
      "Text: The government secretly controls the weather using giant hidden machines.\n",
      "Predicted label: 0\n",
      "Confidence: {0: 0.597, 1: 0.403}\n"
     ]
    },
    {
     "data": {
      "text/plain": [
       "(0, array([0.59748008, 0.40251992]))"
      ]
     },
     "execution_count": 13,
     "metadata": {},
     "output_type": "execute_result"
    }
   ],
   "source": [
    "predict_text(\"Aliens have landed in New York City and replaced the mayor with a clone.\")\n",
    "predict_text(\"Scientists confirm chocolate cures all diseases and extends life by 50 years.\")\n",
    "predict_text(\"The government secretly controls the weather using giant hidden machines.\")\n"
   ]
  },
  {
   "cell_type": "code",
   "execution_count": 14,
   "id": "94ab0deb-cf72-4783-a0e3-e8be3281d2ed",
   "metadata": {
    "execution": {
     "iopub.execute_input": "2025-10-03T01:45:55.577061Z",
     "iopub.status.busy": "2025-10-03T01:45:55.576775Z",
     "iopub.status.idle": "2025-10-03T01:45:55.586860Z",
     "shell.execute_reply": "2025-10-03T01:45:55.586107Z",
     "shell.execute_reply.started": "2025-10-03T01:45:55.577041Z"
    }
   },
   "outputs": [
    {
     "name": "stdout",
     "output_type": "stream",
     "text": [
      "Text: A new study claims drinking four cups of coffee a day prevents memory loss.\n",
      "Predicted label: 0\n",
      "Confidence: {0: 0.531, 1: 0.469}\n",
      "Text: Tech companies are investing billions into AI to create human-like robots.\n",
      "Predicted label: 0\n",
      "Confidence: {0: 0.53, 1: 0.47}\n"
     ]
    },
    {
     "data": {
      "text/plain": [
       "(0, array([0.53006203, 0.46993797]))"
      ]
     },
     "execution_count": 14,
     "metadata": {},
     "output_type": "execute_result"
    }
   ],
   "source": [
    "predict_text(\"A new study claims drinking four cups of coffee a day prevents memory loss.\")\n",
    "predict_text(\"Tech companies are investing billions into AI to create human-like robots.\")\n"
   ]
  },
  {
   "cell_type": "code",
   "execution_count": 15,
   "id": "a1b8c2eb-fac0-4f51-8280-4e41e588f170",
   "metadata": {
    "execution": {
     "iopub.execute_input": "2025-10-03T01:49:06.289462Z",
     "iopub.status.busy": "2025-10-03T01:49:06.289185Z",
     "iopub.status.idle": "2025-10-03T01:49:06.308836Z",
     "shell.execute_reply": "2025-10-03T01:49:06.308071Z",
     "shell.execute_reply.started": "2025-10-03T01:49:06.289439Z"
    }
   },
   "outputs": [
    {
     "name": "stdout",
     "output_type": "stream",
     "text": [
      "                                                                     Text  Predicted Label  Confidence Real (0)  Confidence Fake (1)\n",
      "          The President signed a new healthcare bill into law on Tuesday.                0                0.804                0.196\n",
      "        NASA successfully launched a satellite to monitor climate change.                0                0.536                0.464\n",
      "   The Federal Reserve announced an increase in interest rates this week.                0                0.702                0.298\n",
      "Aliens have landed in New York City and replaced the mayor with a clon...                0                0.588                0.412\n",
      "Scientists confirm chocolate cures all diseases and extends life by 50...                1                0.476                0.524\n",
      "The government secretly controls the weather using giant hidden machin...                0                0.597                0.403\n",
      "A new study claims drinking four cups of coffee a day prevents memory ...                0                0.531                0.469\n",
      "Tech companies are investing billions into AI to create human-like rob...                0                0.530                0.470\n"
     ]
    }
   ],
   "source": [
    "import pandas as pd\n",
    "\n",
    "# Example sentences for demo\n",
    "test_sentences = [\n",
    "    # Real-sounding\n",
    "    \"The President signed a new healthcare bill into law on Tuesday.\",\n",
    "    \"NASA successfully launched a satellite to monitor climate change.\",\n",
    "    \"The Federal Reserve announced an increase in interest rates this week.\",\n",
    "\n",
    "    # Fake-sounding\n",
    "    \"Aliens have landed in New York City and replaced the mayor with a clone.\",\n",
    "    \"Scientists confirm chocolate cures all diseases and extends life by 50 years.\",\n",
    "    \"The government secretly controls the weather using giant hidden machines.\",\n",
    "\n",
    "    # Ambiguous\n",
    "    \"A new study claims drinking four cups of coffee a day prevents memory loss.\",\n",
    "    \"Tech companies are investing billions into AI to create human-like robots.\"\n",
    "]\n",
    "\n",
    "# Collect results\n",
    "results = []\n",
    "for text in test_sentences:\n",
    "    X = vectorizer.transform([text])\n",
    "    pred = clf.predict(X)[0]\n",
    "    prob = clf.predict_proba(X)[0]\n",
    "    results.append({\n",
    "        \"Text\": text[:70] + (\"...\" if len(text) > 70 else \"\"),  # short preview\n",
    "        \"Predicted Label\": pred,\n",
    "        \"Confidence Real (0)\": round(prob[0], 3),\n",
    "        \"Confidence Fake (1)\": round(prob[1], 3)\n",
    "    })\n",
    "\n",
    "# Convert to table\n",
    "df_results = pd.DataFrame(results)\n",
    "\n",
    "# Show results\n",
    "print(df_results.to_string(index=False))\n"
   ]
  },
  {
   "cell_type": "code",
   "execution_count": 16,
   "id": "abb3ab44-256a-480e-ac3e-16cb7e0c44ae",
   "metadata": {
    "execution": {
     "iopub.execute_input": "2025-10-03T01:52:11.156905Z",
     "iopub.status.busy": "2025-10-03T01:52:11.156547Z",
     "iopub.status.idle": "2025-10-03T01:52:12.623250Z",
     "shell.execute_reply": "2025-10-03T01:52:12.622135Z",
     "shell.execute_reply.started": "2025-10-03T01:52:11.156884Z"
    }
   },
   "outputs": [
    {
     "data": {
      "image/png": "[encoded data removed]",
      "text/plain": [
       "<Figure size 1200x600 with 1 Axes>"
      ]
     },
     "metadata": {},
     "output_type": "display_data"
    }
   ],
   "source": [
    "import matplotlib.pyplot as plt\n",
    "import numpy as np\n",
    "\n",
    "# Short labels for display\n",
    "labels = [\n",
    "    \"Healthcare bill\",\n",
    "    \"NASA satellite\",\n",
    "    \"Fed interest rates\",\n",
    "    \"Aliens NYC\",\n",
    "    \"Chocolate cures\",\n",
    "    \"Weather machines\",\n",
    "    \"Coffee study\",\n",
    "    \"AI robots\"\n",
    "]\n",
    "\n",
    "real_probs = df_results[\"Confidence Real (0)\"].values\n",
    "fake_probs = df_results[\"Confidence Fake (1)\"].values\n",
    "\n",
    "x = np.arange(len(labels))\n",
    "width = 0.35\n",
    "\n",
    "fig, ax = plt.subplots(figsize=(12,6))\n",
    "rects1 = ax.bar(x - width/2, real_probs, width, label='Real (0)')\n",
    "rects2 = ax.bar(x + width/2, fake_probs, width, label='Fake (1)')\n",
    "\n",
    "ax.set_ylabel('Confidence')\n",
    "ax.set_title('Model Confidence per Test Sentence')\n",
    "ax.set_xticks(x)\n",
    "ax.set_xticklabels(labels, rotation=45, ha=\"right\")\n",
    "ax.legend()\n",
    "\n",
    "plt.show()\n"
   ]
  },
  {
   "cell_type": "code",
   "execution_count": 17,
   "id": "56921d80-4cf4-4b5e-af9e-de11fef8c0f0",
   "metadata": {
    "execution": {
     "iopub.execute_input": "2025-10-03T01:54:49.317342Z",
     "iopub.status.busy": "2025-10-03T01:54:49.316875Z",
     "iopub.status.idle": "2025-10-03T01:54:49.334656Z",
     "shell.execute_reply": "2025-10-03T01:54:49.333926Z",
     "shell.execute_reply.started": "2025-10-03T01:54:49.317315Z"
    }
   },
   "outputs": [
    {
     "name": "stdout",
     "output_type": "stream",
     "text": [
      "Text: The President signed a new healthcare bill into law on Tuesday.\n",
      "Predicted label: 0\n",
      "Confidence: {0: 0.804, 1: 0.196}\n",
      "Text: NASA successfully launched a satellite to monitor climate change.\n",
      "Predicted label: 0\n",
      "Confidence: {0: 0.536, 1: 0.464}\n",
      "Text: The Federal Reserve announced an increase in interest rates this week.\n",
      "Predicted label: 0\n",
      "Confidence: {0: 0.702, 1: 0.298}\n",
      "Text: Aliens have landed in New York City and replaced the mayor with a clone.\n",
      "Predicted label: 0\n",
      "Confidence: {0: 0.588, 1: 0.412}\n",
      "Text: Scientists confirm chocolate cures all diseases and extends life by 50 years.\n",
      "Predicted label: 1\n",
      "Confidence: {0: 0.476, 1: 0.524}\n",
      "Text: The government secretly controls the weather using giant hidden machines.\n",
      "Predicted label: 0\n",
      "Confidence: {0: 0.597, 1: 0.403}\n",
      "Text: A new study claims drinking four cups of coffee a day prevents memory loss.\n",
      "Predicted label: 0\n",
      "Confidence: {0: 0.531, 1: 0.469}\n",
      "Text: Tech companies are investing billions into AI to create human-like robots.\n",
      "Predicted label: 0\n",
      "Confidence: {0: 0.53, 1: 0.47}\n",
      "                                                                         Text  Predicted Label  Confidence Real (0)  Confidence Fake (1)\n",
      "              The President signed a new healthcare bill into law on Tuesday.                0                0.804                0.196\n",
      "            NASA successfully launched a satellite to monitor climate change.                0                0.536                0.464\n",
      "       The Federal Reserve announced an increase in interest rates this week.                0                0.702                0.298\n",
      "     Aliens have landed in New York City and replaced the mayor with a clone.                0                0.588                0.412\n",
      "Scientists confirm chocolate cures all diseases and extends life by 50 years.                1                0.476                0.524\n",
      "    The government secretly controls the weather using giant hidden machines.                0                0.597                0.403\n",
      "  A new study claims drinking four cups of coffee a day prevents memory loss.                0                0.531                0.469\n",
      "   Tech companies are investing billions into AI to create human-like robots.                0                0.530                0.470\n"
     ]
    }
   ],
   "source": [
    "import pandas as pd\n",
    "\n",
    "# Example test sentences\n",
    "test_sentences = [\n",
    "    \"The President signed a new healthcare bill into law on Tuesday.\",\n",
    "    \"NASA successfully launched a satellite to monitor climate change.\",\n",
    "    \"The Federal Reserve announced an increase in interest rates this week.\",\n",
    "    \"Aliens have landed in New York City and replaced the mayor with a clone.\",\n",
    "    \"Scientists confirm chocolate cures all diseases and extends life by 50 years.\",\n",
    "    \"The government secretly controls the weather using giant hidden machines.\",\n",
    "    \"A new study claims drinking four cups of coffee a day prevents memory loss.\",\n",
    "    \"Tech companies are investing billions into AI to create human-like robots.\"\n",
    "]\n",
    "\n",
    "# Predict on each sentence\n",
    "results = []\n",
    "for text in test_sentences:\n",
    "    pred_label, probs = predict_text(text)\n",
    "    results.append({\n",
    "        \"Text\": text,\n",
    "        \"Predicted Label\": pred_label,\n",
    "        \"Confidence Real (0)\": round(probs[0], 3),\n",
    "        \"Confidence Fake (1)\": round(probs[1], 3)\n",
    "    })\n",
    "\n",
    "# Create DataFrame\n",
    "results_df = pd.DataFrame(results)\n",
    "\n",
    "print(results_df.to_string(index=False))\n"
   ]
  },
  {
   "cell_type": "code",
   "execution_count": 18,
   "id": "7710f207-84ae-416d-bb55-ac77f9a62c13",
   "metadata": {
    "execution": {
     "iopub.execute_input": "2025-10-03T01:56:18.642127Z",
     "iopub.status.busy": "2025-10-03T01:56:18.641849Z",
     "iopub.status.idle": "2025-10-03T01:56:18.661291Z",
     "shell.execute_reply": "2025-10-03T01:56:18.660453Z",
     "shell.execute_reply.started": "2025-10-03T01:56:18.642108Z"
    }
   },
   "outputs": [
    {
     "name": "stdout",
     "output_type": "stream",
     "text": [
      "Text: The President signed a new healthcare bill into law on Tuesday.\n",
      "Predicted label: 0\n",
      "Confidence: {0: 0.804, 1: 0.196}\n",
      "Text: NASA successfully launched a satellite to monitor climate change.\n",
      "Predicted label: 0\n",
      "Confidence: {0: 0.536, 1: 0.464}\n",
      "Text: The Federal Reserve announced an increase in interest rates this week.\n",
      "Predicted label: 0\n",
      "Confidence: {0: 0.702, 1: 0.298}\n",
      "Text: Aliens have landed in New York City and replaced the mayor with a clone.\n",
      "Predicted label: 0\n",
      "Confidence: {0: 0.588, 1: 0.412}\n",
      "Text: Scientists confirm chocolate cures all diseases and extends life by 50 years.\n",
      "Predicted label: 1\n",
      "Confidence: {0: 0.476, 1: 0.524}\n",
      "Text: The government secretly controls the weather using giant hidden machines.\n",
      "Predicted label: 0\n",
      "Confidence: {0: 0.597, 1: 0.403}\n",
      "Text: A new study claims drinking four cups of coffee a day prevents memory loss.\n",
      "Predicted label: 0\n",
      "Confidence: {0: 0.531, 1: 0.469}\n",
      "Text: Tech companies are investing billions into AI to create human-like robots.\n",
      "Predicted label: 0\n",
      "Confidence: {0: 0.53, 1: 0.47}\n",
      "                                                                         Text  Predicted Label  Confidence Real (0)  Confidence Fake (1)                                         Reasoning / Notes\n",
      "              The President signed a new healthcare bill into law on Tuesday.                0                0.804                0.196              Official government event, likely real news.\n",
      "            NASA successfully launched a satellite to monitor climate change.                0                0.536                0.464      Scientific event reported by NASA, likely real news.\n",
      "       The Federal Reserve announced an increase in interest rates this week.                0                0.702                0.298                     Official financial news, likely real.\n",
      "     Aliens have landed in New York City and replaced the mayor with a clone.                0                0.588                0.412 Outrageous claim, clearly fake but model slightly unsure.\n",
      "Scientists confirm chocolate cures all diseases and extends life by 50 years.                1                0.476                0.524                      Exaggerated health claim, fake news.\n",
      "    The government secretly controls the weather using giant hidden machines.                0                0.597                0.403     Conspiracy-style claim, fake news but model confused.\n",
      "  A new study claims drinking four cups of coffee a day prevents memory loss.                0                0.531                0.469                    Health study, plausible but ambiguous.\n",
      "   Tech companies are investing billions into AI to create human-like robots.                0                0.530                0.470            Tech news, plausible but could be exaggerated.\n"
     ]
    }
   ],
   "source": [
    "import pandas as pd\n",
    "\n",
    "# Example test sentences\n",
    "test_sentences = [\n",
    "    \"The President signed a new healthcare bill into law on Tuesday.\",\n",
    "    \"NASA successfully launched a satellite to monitor climate change.\",\n",
    "    \"The Federal Reserve announced an increase in interest rates this week.\",\n",
    "    \"Aliens have landed in New York City and replaced the mayor with a clone.\",\n",
    "    \"Scientists confirm chocolate cures all diseases and extends life by 50 years.\",\n",
    "    \"The government secretly controls the weather using giant hidden machines.\",\n",
    "    \"A new study claims drinking four cups of coffee a day prevents memory loss.\",\n",
    "    \"Tech companies are investing billions into AI to create human-like robots.\"\n",
    "]\n",
    "\n",
    "# Optional reasoning / notes for each sentence\n",
    "notes = [\n",
    "    \"Official government event, likely real news.\",\n",
    "    \"Scientific event reported by NASA, likely real news.\",\n",
    "    \"Official financial news, likely real.\",\n",
    "    \"Outrageous claim, clearly fake but model slightly unsure.\",\n",
    "    \"Exaggerated health claim, fake news.\",\n",
    "    \"Conspiracy-style claim, fake news but model confused.\",\n",
    "    \"Health study, plausible but ambiguous.\",\n",
    "    \"Tech news, plausible but could be exaggerated.\"\n",
    "]\n",
    "\n",
    "# Predict on each sentence\n",
    "results = []\n",
    "for text, note in zip(test_sentences, notes):\n",
    "    pred_label, probs = predict_text(text)\n",
    "    results.append({\n",
    "        \"Text\": text,\n",
    "        \"Predicted Label\": pred_label,\n",
    "        \"Confidence Real (0)\": round(probs[0], 3),\n",
    "        \"Confidence Fake (1)\": round(probs[1], 3),\n",
    "        \"Reasoning / Notes\": note\n",
    "    })\n",
    "\n",
    "# Create DataFrame\n",
    "results_df = pd.DataFrame(results)\n",
    "\n",
    "# Show full table\n",
    "print(results_df.to_string(index=False))\n"
   ]
  },
  {
   "cell_type": "code",
   "execution_count": 19,
   "id": "9bfe145f-aea5-4660-a1a2-a76b468f1039",
   "metadata": {
    "execution": {
     "iopub.execute_input": "2025-10-03T01:57:00.122258Z",
     "iopub.status.busy": "2025-10-03T01:57:00.121956Z",
     "iopub.status.idle": "2025-10-03T01:57:00.429107Z",
     "shell.execute_reply": "2025-10-03T01:57:00.428337Z",
     "shell.execute_reply.started": "2025-10-03T01:57:00.122234Z"
    }
   },
   "outputs": [
    {
     "data": {
      "image/png": "[encoded data removed]",
      "text/plain": [
       "<Figure size 1200x600 with 1 Axes>"
      ]
     },
     "metadata": {},
     "output_type": "display_data"
    }
   ],
   "source": [
    "import matplotlib.pyplot as plt\n",
    "import numpy as np\n",
    "\n",
    "# Short labels for display (to fit on x-axis)\n",
    "labels = [\n",
    "    \"Healthcare bill\",\n",
    "    \"NASA satellite\",\n",
    "    \"Fed rates\",\n",
    "    \"Aliens NYC\",\n",
    "    \"Chocolate cures\",\n",
    "    \"Weather machines\",\n",
    "    \"Coffee study\",\n",
    "    \"AI robots\"\n",
    "]\n",
    "\n",
    "# Extract confidence values from your results dataframe\n",
    "real_probs = results_df[\"Confidence Real (0)\"].values\n",
    "fake_probs = results_df[\"Confidence Fake (1)\"].values\n",
    "\n",
    "x = np.arange(len(labels))  # label locations\n",
    "width = 0.35  # bar width\n",
    "\n",
    "fig, ax = plt.subplots(figsize=(12,6))\n",
    "\n",
    "# Plot bars\n",
    "rects1 = ax.bar(x - width/2, real_probs, width, label='Real (0)', color='green')\n",
    "rects2 = ax.bar(x + width/2, fake_probs, width, label='Fake (1)', color='red')\n",
    "\n",
    "# Labels and title\n",
    "ax.set_ylabel('Confidence')\n",
    "ax.set_title('Model Confidence per Test Sentence')\n",
    "ax.set_xticks(x)\n",
    "ax.set_xticklabels(labels, rotation=45, ha=\"right\")\n",
    "ax.set_ylim(0, 1)  # probabilities between 0 and 1\n",
    "ax.legend()\n",
    "\n",
    "# Optional: show exact values on top of bars\n",
    "for i in range(len(labels)):\n",
    "    ax.text(x[i]-width/2, real_probs[i]+0.02, f\"{real_probs[i]:.2f}\", ha='center', va='bottom')\n",
    "    ax.text(x[i]+width/2, fake_probs[i]+0.02, f\"{fake_probs[i]:.2f}\", ha='center', va='bottom')\n",
    "\n",
    "plt.tight_layout()\n",
    "plt.show()\n"
   ]
  },
  {
   "cell_type": "code",
   "execution_count": null,
   "id": "c31e01a5-354f-443e-a000-53f0b3004dd6",
   "metadata": {},
   "outputs": [],
   "source": []
  }
 ],
 "metadata": {
  "kernelspec": {
   "display_name": "Python 3 (ipykernel)",
   "language": "python",
   "name": "python3"
  },
  "language_info": {
   "codemirror_mode": {
    "name": "ipython",
    "version": 3
   },
   "file_extension": ".py",
   "mimetype": "text/x-python",
   "name": "python",
   "nbconvert_exporter": "python",
   "pygments_lexer": "ipython3",
   "version": "3.12.9"
  }
 },
 "nbformat": 4,
 "nbformat_minor": 5
}
